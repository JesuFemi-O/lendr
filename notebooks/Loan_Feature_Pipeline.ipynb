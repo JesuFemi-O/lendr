{
 "cells": [
  {
   "cell_type": "code",
   "execution_count": null,
   "id": "344662fb",
   "metadata": {},
   "outputs": [],
   "source": [
    "['Credit_History', 'Gender_Female', 'Gender_Male', 'Married_No',\n",
    "       'Married_Yes', 'Dependents_3', 'Dependents_0', 'Dependents_1',\n",
    "       'Dependents_2', 'Education_Graduate', 'Education_Not Graduate',\n",
    "       'Self_Employed_No', 'Self_Employed_Yes', 'Property_Area_Rural',\n",
    "       'Property_Area_Semiurban', 'Property_Area_Urban', 'EMI',\n",
    "       'Balance Income']"
   ]
  },
  {
   "cell_type": "code",
   "execution_count": 2,
   "id": "1332eff5",
   "metadata": {},
   "outputs": [
    {
     "data": {
      "text/plain": [
       "0"
      ]
     },
     "execution_count": 2,
     "metadata": {},
     "output_type": "execute_result"
    }
   ],
   "source": [
    "int(\"A\"==\"b\")"
   ]
  },
  {
   "cell_type": "code",
   "execution_count": 4,
   "id": "746d0dcd",
   "metadata": {},
   "outputs": [],
   "source": [
    "import random\n",
    "import numpy as np"
   ]
  },
  {
   "cell_type": "code",
   "execution_count": 5,
   "id": "ba073bf5",
   "metadata": {},
   "outputs": [],
   "source": [
    "def pre_process_payload(payload: dict) -> np.array:\n",
    "    property_area = payload.get('property_area')\n",
    "    self_employed = payload.get('self_employed')\n",
    "    education_level = payload.get('education_level')\n",
    "    dependents = payload.get('dependents')\n",
    "    married = payload.get('married')\n",
    "    gender = payload.get('gender')\n",
    "    credit_history = payload.get('credit_history')\n",
    "    income = payload.get('income')\n",
    "    coapplicant_income = payload.get('coapplicant_income')\n",
    "    loan_amount = payload.get('loan_amount')\n",
    "    loan_term = payload.get('loan_term')\n",
    "    \n",
    "    total_income = income + coapplicant_income\n",
    "    EMI = loan_amount / loan_term\n",
    "    Balance_Income = total_income - (EMI * 1000)\n",
    "    Gender_Female = int(gender.lower()==\"female\")\n",
    "    Gender_Male = int(gender.lower()==\"male\")\n",
    "    Married_No = int(married.lower()==\"no\")\n",
    "    Married_Yes = int(married.lower()==\"yes\")\n",
    "    Dependents_3 = int(dependents>=3)\n",
    "    Dependents_0 = int(dependents==0)\n",
    "    Dependents_1 = int(dependents==1)\n",
    "    Dependents_2 = int(dependents==2)\n",
    "    Education_Graduate = int(education_level.lower()==\"yes\")\n",
    "    Education_Not_Graduate = int(education_level.lower()==\"no\")\n",
    "    Self_Employed_No = int(self_employed.lower()==\"no\")\n",
    "    Self_Employed_Yes = int(self_employed.lower()==\"yes\")\n",
    "    Property_Area_Rural = int(property_area.lower()==\"rural\")\n",
    "    Property_Area_Semiurban = int(property_area.lower()==\"semiurban\")\n",
    "    Property_Area_Urban = int(property_area.lower()==\"urban\")\n",
    "    \n",
    "    # generate Cresit history\n",
    "    seed = random.uniform(0, 1)\n",
    "    \n",
    "    if seed >= 0.86:\n",
    "        Credit_History = 1.0\n",
    "    else:\n",
    "        Credit_History = 0.0\n",
    "        \n",
    "    #create payload array:\n",
    "    return np.array([[Credit_History, Gender_Female, Gender_Male, Married_No,\n",
    "       Married_Yes, Dependents_3, Dependents_0, Dependents_1,\n",
    "       Dependents_2, Education_Graduate, Education_Not_Graduate,\n",
    "       Self_Employed_No, Self_Employed_Yes, Property_Area_Rural,\n",
    "       Property_Area_Semiurban, Property_Area_Urban, EMI,\n",
    "       Balance_Income]])\n",
    "    "
   ]
  },
  {
   "cell_type": "code",
   "execution_count": 6,
   "id": "c0a9350c",
   "metadata": {},
   "outputs": [],
   "source": [
    "def get_prediction(clf, input_vector):\n",
    "    return clf.predict(input_vector).tolist()[0]"
   ]
  },
  {
   "cell_type": "code",
   "execution_count": 8,
   "id": "779e7dd0",
   "metadata": {},
   "outputs": [],
   "source": [
    "dummy_payload = {\n",
    "    \"property_area\": 'rural',\n",
    "    \"self_employed\": 'yes',\n",
    "    \"education_level\":\"yes\",\n",
    "    \"dependents\":3,\n",
    "    \"married\": \"yes\",\n",
    "    \"gender\":\"male\",\n",
    "    \"credit_history\":1.0,\n",
    "    \"income\":3000,\n",
    "    \"coapplicant_income\":1000,\n",
    "    \"loan_amount\": 700,\n",
    "    \"loan_term\": 360\n",
    "}"
   ]
  },
  {
   "cell_type": "code",
   "execution_count": 9,
   "id": "46bea21c",
   "metadata": {},
   "outputs": [],
   "source": [
    "t = pre_process_payload(dummy_payload)"
   ]
  },
  {
   "cell_type": "code",
   "execution_count": 10,
   "id": "c90a161b",
   "metadata": {},
   "outputs": [
    {
     "data": {
      "text/plain": [
       "array([[0.00000000e+00, 0.00000000e+00, 1.00000000e+00, 0.00000000e+00,\n",
       "        1.00000000e+00, 1.00000000e+00, 0.00000000e+00, 0.00000000e+00,\n",
       "        0.00000000e+00, 1.00000000e+00, 0.00000000e+00, 0.00000000e+00,\n",
       "        1.00000000e+00, 1.00000000e+00, 0.00000000e+00, 0.00000000e+00,\n",
       "        1.94444444e+00, 2.05555556e+03]])"
      ]
     },
     "execution_count": 10,
     "metadata": {},
     "output_type": "execute_result"
    }
   ],
   "source": [
    "t"
   ]
  },
  {
   "cell_type": "code",
   "execution_count": 11,
   "id": "0f2f484b",
   "metadata": {},
   "outputs": [],
   "source": [
    "import pickle"
   ]
  },
  {
   "cell_type": "code",
   "execution_count": 12,
   "id": "71c62c37",
   "metadata": {},
   "outputs": [],
   "source": [
    "filename = 'finalized_model.sav'"
   ]
  },
  {
   "cell_type": "code",
   "execution_count": 13,
   "id": "9fc77786",
   "metadata": {},
   "outputs": [],
   "source": [
    "model = pickle.load(open(filename, 'rb'))"
   ]
  },
  {
   "cell_type": "code",
   "execution_count": 14,
   "id": "1274826c",
   "metadata": {},
   "outputs": [
    {
     "data": {
      "text/plain": [
       "0"
      ]
     },
     "execution_count": 14,
     "metadata": {},
     "output_type": "execute_result"
    }
   ],
   "source": [
    "get_prediction(model, t)"
   ]
  },
  {
   "cell_type": "code",
   "execution_count": 16,
   "id": "f75ab248",
   "metadata": {},
   "outputs": [],
   "source": [
    "from pydantic import BaseModel"
   ]
  },
  {
   "cell_type": "code",
   "execution_count": 17,
   "id": "9e273427",
   "metadata": {},
   "outputs": [],
   "source": [
    "class LoanModel(BaseModel):\n",
    "    property_area: str\n",
    "    self_employed: str\n",
    "    education_level: str\n",
    "    dependents: int\n",
    "    married: str\n",
    "    gender: str\n",
    "    income: int\n",
    "    coapplicant_income: int\n",
    "    loan_amount: int\n",
    "    loan_term: int"
   ]
  },
  {
   "cell_type": "code",
   "execution_count": 19,
   "id": "92e17f86",
   "metadata": {},
   "outputs": [],
   "source": [
    "payload = LoanModel(property_area=\"rural\", self_employed=\"yes\", education_level=\"yes\", \n",
    "          dependents=2,  married=\"yes\", gender=\"Male\", income=2000, \n",
    "          coapplicant_income=0, loan_amount=400, loan_term=360)"
   ]
  },
  {
   "cell_type": "code",
   "execution_count": 20,
   "id": "895bae10",
   "metadata": {},
   "outputs": [
    {
     "data": {
      "text/plain": [
       "{'property_area': 'rural',\n",
       " 'self_employed': 'yes',\n",
       " 'education_level': 'yes',\n",
       " 'dependents': 2,\n",
       " 'married': 'yes',\n",
       " 'gender': 'Male',\n",
       " 'income': 2000,\n",
       " 'coapplicant_income': 0,\n",
       " 'loan_amount': 400,\n",
       " 'loan_term': 360}"
      ]
     },
     "execution_count": 20,
     "metadata": {},
     "output_type": "execute_result"
    }
   ],
   "source": [
    "payload.dict()"
   ]
  },
  {
   "cell_type": "code",
   "execution_count": null,
   "id": "519b9b0c",
   "metadata": {},
   "outputs": [],
   "source": []
  }
 ],
 "metadata": {
  "kernelspec": {
   "display_name": "Python 3",
   "language": "python",
   "name": "python3"
  },
  "language_info": {
   "codemirror_mode": {
    "name": "ipython",
    "version": 3
   },
   "file_extension": ".py",
   "mimetype": "text/x-python",
   "name": "python",
   "nbconvert_exporter": "python",
   "pygments_lexer": "ipython3",
   "version": "3.8.8"
  }
 },
 "nbformat": 4,
 "nbformat_minor": 5
}
